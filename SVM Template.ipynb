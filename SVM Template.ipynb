{
 "cells": [
  {
   "cell_type": "code",
   "execution_count": 1,
   "metadata": {},
   "outputs": [],
   "source": "import numpy as np\nfrom sklearn import datasets\nfrom sklearn.pipeline import Pipeline\nfrom sklearn.preprocessing import StandardScaler\nfrom sklearn.svm import LinearSVC"
  },
  {
   "cell_type": "code",
   "execution_count": 2,
   "metadata": {},
   "outputs": [],
   "source": "iris = datasets.load_iris()\nX = iris['data'][:,(2,3)] #petal length, petal width\ny = (iris['target'] == 2).astype(np.float64) #Iris virginica"
  },
  {
   "cell_type": "code",
   "execution_count": 3,
   "metadata": {},
   "outputs": [
    {
     "data": {
      "text/plain": "Pipeline(steps=[('scaler', StandardScaler()),\n                ('linear_svc', LinearSVC(C=1, loss='hinge'))])"
     },
     "execution_count": 3,
     "metadata": {},
     "output_type": "execute_result"
    }
   ],
   "source": "svm_clf = Pipeline([('scaler',StandardScaler()),('linear_svc',LinearSVC(C=1, loss='hinge'))])\n\nsvm_clf.fit(X,y)"
  },
  {
   "cell_type": "markdown",
   "metadata": {},
   "source": "## SVM with Polynomial Features"
  },
  {
   "cell_type": "code",
   "execution_count": 4,
   "metadata": {},
   "outputs": [],
   "source": "from sklearn.datasets import make_moons\nfrom sklearn.pipeline import Pipeline\nfrom sklearn.preprocessing import PolynomialFeatures"
  },
  {
   "cell_type": "code",
   "execution_count": 5,
   "metadata": {},
   "outputs": [
    {
     "name": "stderr",
     "output_type": "stream",
     "text": "/Users/abhinaykumar/Desktop/Self Study/HandsonML/my_env/lib/python3.7/site-packages/sklearn/svm/_base.py:975: ConvergenceWarning: Liblinear failed to converge, increase the number of iterations.\n  \"the number of iterations.\", ConvergenceWarning)\n"
    },
    {
     "data": {
      "text/plain": "Pipeline(steps=[('poly_features', PolynomialFeatures(degree=3)),\n                ('scaler', StandardScaler()),\n                ('svm_clf', LinearSVC(C=10, loss='hinge'))])"
     },
     "execution_count": 5,
     "metadata": {},
     "output_type": "execute_result"
    }
   ],
   "source": "X, y = make_moons(n_samples = 100, noise = 0.15)\npolynomial_svm_clf = Pipeline([('poly_features',PolynomialFeatures(degree=3)),('scaler',StandardScaler()),('svm_clf',LinearSVC(C=10, loss = 'hinge'))])\n\npolynomial_svm_clf.fit(X,y)"
  },
  {
   "cell_type": "markdown",
   "metadata": {},
   "source": "### Polynomial Kernel vs polynomial features"
  },
  {
   "cell_type": "code",
   "execution_count": 6,
   "metadata": {},
   "outputs": [
    {
     "data": {
      "text/plain": "Pipeline(steps=[('scaler', StandardScaler()),\n                ('svm_clf', SVC(C=5, coef0=1, kernel='poly'))])"
     },
     "execution_count": 6,
     "metadata": {},
     "output_type": "execute_result"
    }
   ],
   "source": "from sklearn.svm import SVC\n\npoly_kernel_svm_clf = Pipeline([('scaler',StandardScaler()),('svm_clf',SVC(kernel = 'poly', degree = 3, coef0 = 1, C = 5))])\npoly_kernel_svm_clf.fit(X,y)"
  },
  {
   "cell_type": "code",
   "execution_count": 7,
   "metadata": {},
   "outputs": [],
   "source": "h = 0.02 #mesh step size\nx_min,x_max = X[:,0].min(),X[:,0].max()\ny_min, y_max = X[:,1].min(),X[:,1].max()\nxx,yy = np.meshgrid(np.arange(x_min,x_max,h),np.arange(y_min,y_max,h))\n\nZ = poly_kernel_svm_clf.predict(np.c_[xx.ravel(),yy.ravel()])\n\n"
  },
  {
   "cell_type": "code",
   "execution_count": 8,
   "metadata": {},
   "outputs": [
    {
     "data": {
      "text/plain": "array([1, 1, 1, ..., 0, 0, 1])"
     },
     "execution_count": 8,
     "metadata": {},
     "output_type": "execute_result"
    }
   ],
   "source": "Z"
  },
  {
   "cell_type": "code",
   "execution_count": 9,
   "metadata": {},
   "outputs": [
    {
     "data": {
      "text/plain": "16008"
     },
     "execution_count": 9,
     "metadata": {},
     "output_type": "execute_result"
    }
   ],
   "source": "len(Z)"
  },
  {
   "cell_type": "code",
   "execution_count": 10,
   "metadata": {},
   "outputs": [
    {
     "data": {
      "text/plain": "92"
     },
     "execution_count": 10,
     "metadata": {},
     "output_type": "execute_result"
    }
   ],
   "source": "len(xx)"
  },
  {
   "cell_type": "code",
   "execution_count": 11,
   "metadata": {},
   "outputs": [
    {
     "data": {
      "text/plain": "16008"
     },
     "execution_count": 11,
     "metadata": {},
     "output_type": "execute_result"
    }
   ],
   "source": "len(np.c_[xx.ravel(),yy.ravel()])"
  },
  {
   "cell_type": "code",
   "execution_count": 12,
   "metadata": {},
   "outputs": [
    {
     "data": {
      "text/plain": "16008"
     },
     "execution_count": 12,
     "metadata": {},
     "output_type": "execute_result"
    }
   ],
   "source": "len(xx.ravel())"
  },
  {
   "cell_type": "code",
   "execution_count": 13,
   "metadata": {},
   "outputs": [
    {
     "data": {
      "text/plain": "array([[-1.25314082, -1.23314082, -1.21314082, ...,  2.16685918,\n         2.18685918,  2.20685918],\n       [-1.25314082, -1.23314082, -1.21314082, ...,  2.16685918,\n         2.18685918,  2.20685918],\n       [-1.25314082, -1.23314082, -1.21314082, ...,  2.16685918,\n         2.18685918,  2.20685918],\n       ...,\n       [-1.25314082, -1.23314082, -1.21314082, ...,  2.16685918,\n         2.18685918,  2.20685918],\n       [-1.25314082, -1.23314082, -1.21314082, ...,  2.16685918,\n         2.18685918,  2.20685918],\n       [-1.25314082, -1.23314082, -1.21314082, ...,  2.16685918,\n         2.18685918,  2.20685918]])"
     },
     "execution_count": 13,
     "metadata": {},
     "output_type": "execute_result"
    }
   ],
   "source": "xx"
  },
  {
   "cell_type": "code",
   "execution_count": 14,
   "metadata": {},
   "outputs": [
    {
     "data": {
      "text/plain": "174"
     },
     "execution_count": 14,
     "metadata": {},
     "output_type": "execute_result"
    }
   ],
   "source": "len(xx[0])"
  },
  {
   "cell_type": "code",
   "execution_count": 15,
   "metadata": {},
   "outputs": [
    {
     "data": {
      "text/plain": "array([[-0.63147939, -0.63147939, -0.63147939, ..., -0.63147939,\n        -0.63147939, -0.63147939],\n       [-0.61147939, -0.61147939, -0.61147939, ..., -0.61147939,\n        -0.61147939, -0.61147939],\n       [-0.59147939, -0.59147939, -0.59147939, ..., -0.59147939,\n        -0.59147939, -0.59147939],\n       ...,\n       [ 1.14852061,  1.14852061,  1.14852061, ...,  1.14852061,\n         1.14852061,  1.14852061],\n       [ 1.16852061,  1.16852061,  1.16852061, ...,  1.16852061,\n         1.16852061,  1.16852061],\n       [ 1.18852061,  1.18852061,  1.18852061, ...,  1.18852061,\n         1.18852061,  1.18852061]])"
     },
     "execution_count": 15,
     "metadata": {},
     "output_type": "execute_result"
    }
   ],
   "source": "yy"
  },
  {
   "cell_type": "code",
   "execution_count": 16,
   "metadata": {},
   "outputs": [
    {
     "data": {
      "text/plain": "92"
     },
     "execution_count": 16,
     "metadata": {},
     "output_type": "execute_result"
    }
   ],
   "source": "len(yy)"
  },
  {
   "cell_type": "code",
   "execution_count": 17,
   "metadata": {},
   "outputs": [
    {
     "data": {
      "text/plain": "174"
     },
     "execution_count": 17,
     "metadata": {},
     "output_type": "execute_result"
    }
   ],
   "source": "len(yy[0])"
  },
  {
   "cell_type": "code",
   "execution_count": 18,
   "metadata": {},
   "outputs": [],
   "source": "# putting the results into a color plot\n\nZ = Z.reshape(xx.shape)\n# len(Z)"
  },
  {
   "cell_type": "markdown",
   "metadata": {},
   "source": "### Plotting the SVM decision boundary"
  },
  {
   "cell_type": "code",
   "execution_count": 19,
   "metadata": {},
   "outputs": [
    {
     "data": {
      "image/png": "[encoded data removed]",
      "text/plain": "<Figure size 432x288 with 1 Axes>"
     },
     "metadata": {},
     "output_type": "display_data"
    }
   ],
   "source": "import matplotlib.pyplot as plt\nplt.contourf(xx,yy,Z,cmap = plt.cm.coolwarm, alpha = 0.8)\nplt.scatter(X[:,0],X[:,1],c=y,cmap = plt.cm.coolwarm)\nplt.xlabel('Sepal Length')\nplt.ylabel('Sepal width')\nplt.xlim(xx.min(),xx.max())\nplt.ylim(yy.min(),yy.max())\nplt.xticks(())\nplt.yticks(())\nplt.show()"
  },
  {
   "cell_type": "markdown",
   "metadata": {},
   "source": "## RBF Kernel"
  },
  {
   "cell_type": "code",
   "execution_count": 20,
   "metadata": {},
   "outputs": [
    {
     "data": {
      "text/plain": "Pipeline(steps=[('scaler', StandardScaler()),\n                ('svm_clf', SVC(C=0.001, gamma=5))])"
     },
     "execution_count": 20,
     "metadata": {},
     "output_type": "execute_result"
    }
   ],
   "source": "rbf_kernel_svm_clf = Pipeline([('scaler',StandardScaler()),('svm_clf',SVC(kernel = 'rbf',gamma = 5, C = 0.001))])\nrbf_kernel_svm_clf.fit(X,y)"
  },
  {
   "cell_type": "code",
   "execution_count": null,
   "metadata": {},
   "outputs": [],
   "source": ""
  }
 ],
 "metadata": {
  "kernelspec": {
   "display_name": "Python 3",
   "language": "python",
   "name": "python3"
  },
  "language_info": {
   "codemirror_mode": {
    "name": "ipython",
    "version": 3
   },
   "file_extension": ".py",
   "mimetype": "text/x-python",
   "name": "python",
   "nbconvert_exporter": "python",
   "pygments_lexer": "ipython3",
   "version": "3.7.4"
  }
 },
 "nbformat": 4,
 "nbformat_minor": 4
}
